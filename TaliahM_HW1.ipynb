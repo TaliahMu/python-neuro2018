{
 "cells": [
  {
   "cell_type": "markdown",
   "metadata": {},
   "source": [
    "## Challenge 1"
   ]
  },
  {
   "cell_type": "markdown",
   "metadata": {},
   "source": [
    "Print only positive numbers in the list. Be sure to test out your code with various lists."
   ]
  },
  {
   "cell_type": "code",
   "execution_count": 1,
   "metadata": {},
   "outputs": [
    {
     "name": "stdout",
     "output_type": "stream",
     "text": [
      "1\n",
      "2\n",
      "3\n"
     ]
    }
   ],
   "source": [
    "values = [-4,-3,-2,-1,0,1,2,3]\n",
    "for x in values:\n",
    "    if x > 0:\n",
    "        print(x)"
   ]
  },
  {
   "cell_type": "markdown",
   "metadata": {},
   "source": [
    "## Challenge 2\n",
    "Write a script that prompts the user for 3 numbers, and then print out the sum, average and maximum of the 3 numbers.\n",
    "\n",
    "Extra challenge: Can you do it for 5 numbers? What about 10 numbers? How much work does it take for you to change the number of inputs your code takes in and work on?"
   ]
  },
  {
   "cell_type": "code",
   "execution_count": 2,
   "metadata": {},
   "outputs": [
    {
     "name": "stdout",
     "output_type": "stream",
     "text": [
      "Enter a number 8\n",
      "Enter a number 7\n",
      "Enter a number 90\n",
      "Enter a number 7\n",
      "Enter a number 54\n",
      "The sum of the numbers you entered is 166\n",
      "The average of the numbers you entered is 33.2\n",
      "The maximum of the numbers you entered is 90\n"
     ]
    }
   ],
   "source": [
    "numbers = []\n",
    "for a in range(5): #changes amount of numbers user has to input\n",
    "    a = int(input(\"Enter a number \"))\n",
    "    numbers.append(a)\n",
    "total = sum(numbers)\n",
    "mean = sum(numbers)/len(numbers) \n",
    "maximum = max(numbers)\n",
    "print (\"The sum of the numbers you entered is {}\".format(total))\n",
    "print (\"The average of the numbers you entered is {}\".format(mean))\n",
    "print (\"The maximum of the numbers you entered is {}\".format(maximum))"
   ]
  },
  {
   "cell_type": "code",
   "execution_count": 3,
   "metadata": {},
   "outputs": [
    {
     "name": "stdout",
     "output_type": "stream",
     "text": [
      "How many numbers would you like to work with? 5\n",
      "Enter a number 8\n",
      "Enter a number 7\n",
      "Enter a number 90\n",
      "Enter a number 7\n",
      "Enter a number 54\n",
      "The sum of the numbers you entered is 166\n",
      "The average of the numbers you entered is 33.2\n",
      "The maximum of the numbers you entered is 90\n"
     ]
    }
   ],
   "source": [
    "amount = int(input(\"How many numbers would you like to work with? \")) \n",
    "#amount of integers input is also determined by user\n",
    "numbers = []\n",
    "for a in range(amount): \n",
    "    a = int(input(\"Enter a number \"))\n",
    "    numbers.append(a)\n",
    "total = sum(numbers)\n",
    "mean = sum(numbers)/amount \n",
    "maximum = max(numbers)\n",
    "print (\"The sum of the numbers you entered is {}\".format(total))\n",
    "print (\"The average of the numbers you entered is {}\".format(mean))\n",
    "print (\"The maximum of the numbers you entered is {}\".format(maximum))"
   ]
  },
  {
   "cell_type": "markdown",
   "metadata": {},
   "source": [
    "## Challenge 3"
   ]
  },
  {
   "cell_type": "markdown",
   "metadata": {},
   "source": [
    "Write a script that works on a list and returns a new list that only contains unique elements. For example, if you are given a list `['apple', 'banana', 'apple', 'orange', 'apple', 'grape', 'orange']` you should return a new list like `['apple', 'banana', 'orange', 'grape']`, although the order of items may be different.\n",
    "\n",
    "**Hint**: remember `in` for list?"
   ]
  },
  {
   "cell_type": "code",
   "execution_count": 4,
   "metadata": {},
   "outputs": [
    {
     "name": "stdout",
     "output_type": "stream",
     "text": [
      "['peach', 'kiwi', 'lemon', 'lime', 'mango', 'melon']\n"
     ]
    }
   ],
   "source": [
    "#adds items to a new list only if they are not already in the list\n",
    "unique = []\n",
    "fruits = ['peach', 'kiwi', 'lemon', 'lime', 'peach', 'lime', 'mango', 'melon', 'peach', 'mango']\n",
    "for x in range(len(fruits)):\n",
    "    if fruits[x] not in unique:\n",
    "        unique.append(fruits[x])\n",
    "print(unique)"
   ]
  },
  {
   "cell_type": "markdown",
   "metadata": {},
   "source": [
    "## Challenge 4"
   ]
  },
  {
   "cell_type": "markdown",
   "metadata": {},
   "source": [
    "Given a list of words forming a poem, count up the number of occurrences of every word in the list.\n",
    "\n",
    "**Hint 1**: Look back to the yes/no tallying example\n",
    "\n",
    "**Hint 2**: Think about how to handle the very first occurence of the word - you will have to initialize the entry!"
   ]
  },
  {
   "cell_type": "code",
   "execution_count": null,
   "metadata": {},
   "outputs": [],
   "source": []
  },
  {
   "cell_type": "markdown",
   "metadata": {},
   "source": [
    "## Challenge 5"
   ]
  },
  {
   "cell_type": "markdown",
   "metadata": {},
   "source": [
    "Take your answers for Challenge 1 - 4, and turn each of them into a function. Be sure to give each function an appropriate name according to what they do!"
   ]
  },
  {
   "cell_type": "code",
   "execution_count": 5,
   "metadata": {},
   "outputs": [],
   "source": [
    "#Challenge 1 as a function\n",
    "def positives(a):\n",
    "    \"\"\"Prints only positive numbers in a list\n",
    "    \"\"\"\n",
    "    for x in a:\n",
    "        if x> 0:\n",
    "            print(x)"
   ]
  },
  {
   "cell_type": "code",
   "execution_count": 6,
   "metadata": {},
   "outputs": [],
   "source": [
    "#Challenge 2 as a function\n",
    "def properties(b):  \n",
    "    \"\"\"Prints the sum, mean, and max of elements in a list\n",
    "    \"\"\"\n",
    "    total = sum(b)\n",
    "    mean = sum(b)/3 \n",
    "    maximum = max(b)\n",
    "    print (\"The sum of the numbers you entered is {}\".format(total))\n",
    "    print (\"The average of the numbers you entered is {}\".format(mean))\n",
    "    print (\"The maximum of the numbers you entered is {}\".format(maximum))"
   ]
  },
  {
   "cell_type": "code",
   "execution_count": 1,
   "metadata": {},
   "outputs": [],
   "source": [
    "#Challenge 3 as a function\n",
    "def unique(c):\n",
    "    \"\"\"Creates and prints a new list with only unique items from original list\n",
    "    \"\"\"\n",
    "    unique = []\n",
    "    for y in range(len(c)):\n",
    "        if c[y] not in unique:\n",
    "            unique.append(c[y])\n",
    "    print(unique)"
   ]
  },
  {
   "cell_type": "code",
   "execution_count": 8,
   "metadata": {},
   "outputs": [
    {
     "ename": "SyntaxError",
     "evalue": "unexpected EOF while parsing (<ipython-input-8-005bb5b5322a>, line 3)",
     "output_type": "error",
     "traceback": [
      "\u001b[0;36m  File \u001b[0;32m\"<ipython-input-8-005bb5b5322a>\"\u001b[0;36m, line \u001b[0;32m3\u001b[0m\n\u001b[0;31m    \u001b[0m\n\u001b[0m    ^\u001b[0m\n\u001b[0;31mSyntaxError\u001b[0m\u001b[0;31m:\u001b[0m unexpected EOF while parsing\n"
     ]
    }
   ],
   "source": [
    "#Challenge 4 as a function\n",
    "def tallies(d):\n",
    "    "
   ]
  },
  {
   "cell_type": "code",
   "execution_count": 3,
   "metadata": {},
   "outputs": [],
   "source": [
    "test_list = [-100, -32, 5, 4, 5, 4, 5, -100, 35, 90]\n",
    "#postitive and negatives for challege 1 & repeats for challenges 3 and 4"
   ]
  },
  {
   "cell_type": "code",
   "execution_count": 10,
   "metadata": {},
   "outputs": [
    {
     "name": "stdout",
     "output_type": "stream",
     "text": [
      "5\n",
      "4\n",
      "5\n",
      "4\n",
      "5\n",
      "35\n",
      "90\n"
     ]
    }
   ],
   "source": [
    "positives(test_list)"
   ]
  },
  {
   "cell_type": "code",
   "execution_count": 11,
   "metadata": {},
   "outputs": [
    {
     "name": "stdout",
     "output_type": "stream",
     "text": [
      "The sum of the numbers you entered is -84\n",
      "The average of the numbers you entered is -28.0\n",
      "The maximum of the numbers you entered is 90\n"
     ]
    }
   ],
   "source": [
    "properties(test_list)"
   ]
  },
  {
   "cell_type": "code",
   "execution_count": 4,
   "metadata": {},
   "outputs": [
    {
     "name": "stdout",
     "output_type": "stream",
     "text": [
      "[-100, -32, 5, 4, 35, 90]\n"
     ]
    }
   ],
   "source": [
    "unique(test_list)"
   ]
  },
  {
   "cell_type": "code",
   "execution_count": null,
   "metadata": {},
   "outputs": [],
   "source": [
    "tallies(test_list)"
   ]
  }
 ],
 "metadata": {
  "kernelspec": {
   "display_name": "Python 3",
   "language": "python",
   "name": "python3"
  },
  "language_info": {
   "codemirror_mode": {
    "name": "ipython",
    "version": 3
   },
   "file_extension": ".py",
   "mimetype": "text/x-python",
   "name": "python",
   "nbconvert_exporter": "python",
   "pygments_lexer": "ipython3",
   "version": "3.6.4"
  }
 },
 "nbformat": 4,
 "nbformat_minor": 2
}
